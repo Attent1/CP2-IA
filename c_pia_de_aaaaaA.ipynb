{
  "nbformat": 4,
  "nbformat_minor": 0,
  "metadata": {
    "colab": {
      "provenance": [],
      "include_colab_link": true
    },
    "kernelspec": {
      "name": "python3",
      "display_name": "Python 3"
    },
    "language_info": {
      "name": "python"
    }
  },
  "cells": [
    {
      "cell_type": "markdown",
      "metadata": {
        "id": "view-in-github",
        "colab_type": "text"
      },
      "source": [
        "<a href=\"https://colab.research.google.com/github/Attent1/CP2-IA/blob/main/c_pia_de_aaaaaA.ipynb\" target=\"_parent\"><img src=\"https://colab.research.google.com/assets/colab-badge.svg\" alt=\"Open In Colab\"/></a>"
      ]
    },
    {
      "cell_type": "code",
      "execution_count": 56,
      "metadata": {
        "id": "Fdg9Mcmn_UCh"
      },
      "outputs": [],
      "source": [
        "\n",
        "import seaborn as sns\n",
        "import matplotlib.pyplot as plt\n",
        "\n",
        "import matplotlib.pyplot as plt\n",
        "from sklearn.model_selection import train_test_split\n",
        "from sklearn.linear_model import LinearRegression\n",
        "from sklearn.metrics import accuracy_score\n",
        "from sklearn.metrics import mean_squared_error, mean_absolute_error, r2_score\n",
        "\n",
        "from sklearn.ensemble import RandomForestClassifier\n",
        "from sklearn.ensemble import GradientBoostingClassifier\n",
        "from sklearn.discriminant_analysis import LinearDiscriminantAnalysis\n",
        "import pandas as pd\n",
        "from sklearn.model_selection import train_test_split\n",
        "from sklearn.tree import DecisionTreeClassifier\n",
        "from sklearn.metrics import accuracy_score"
      ]
    },
    {
      "cell_type": "code",
      "source": [
        "from google.colab import drive\n",
        "drive.mount('/content/drive')"
      ],
      "metadata": {
        "id": "iTBvIny_r6gc",
        "outputId": "934af2ab-1151-4121-db45-299291b06d8f",
        "colab": {
          "base_uri": "https://localhost:8080/"
        }
      },
      "execution_count": 96,
      "outputs": [
        {
          "output_type": "stream",
          "name": "stdout",
          "text": [
            "Drive already mounted at /content/drive; to attempt to forcibly remount, call drive.mount(\"/content/drive\", force_remount=True).\n"
          ]
        }
      ]
    },
    {
      "cell_type": "markdown",
      "source": [
        "# ***DIVISÃO DE GRUPOS ***\n",
        "\n",
        "\n",
        "\n"
      ],
      "metadata": {
        "id": "XKl-UzZ5YAWJ"
      }
    },
    {
      "cell_type": "code",
      "source": [
        "url = \"/content/drive/MyDrive/solicitacoescredito.csv\""
      ],
      "metadata": {
        "id": "BNB-CrjIsEsM"
      },
      "execution_count": 88,
      "outputs": []
    },
    {
      "cell_type": "code",
      "source": [
        "# Carregar o arquivo CSV\n",
        "dados = pd.read_csv(url)\n",
        "colunas_para_media = ['margemBruta', 'faturamentoBruto', 'totalAtivo']\n",
        "\n",
        "dados = dados.groupby('cnpjSemTraco')[colunas_para_media].mean().reset_index()\n",
        "\n",
        "# Remover todas as colunas não numéricas\n",
        "dados_numericos = dados.select_dtypes(include='number')\n",
        "dados_numericos = dados_numericos.drop('margemBruta', axis=1)\n",
        "\n",
        "df= dados_numericos.fillna(dados_numericos.mean())\n"
      ],
      "metadata": {
        "id": "_MDY1cp7sGK-"
      },
      "execution_count": 89,
      "outputs": []
    },
    {
      "cell_type": "code",
      "source": [
        "df.shape"
      ],
      "metadata": {
        "colab": {
          "base_uri": "https://localhost:8080/"
        },
        "id": "C8jzBfaFH1OO",
        "outputId": "0282650c-69ae-47c4-b3bf-50d7f87798dc"
      },
      "execution_count": 90,
      "outputs": [
        {
          "output_type": "execute_result",
          "data": {
            "text/plain": [
              "(2829, 2)"
            ]
          },
          "metadata": {},
          "execution_count": 90
        }
      ]
    },
    {
      "cell_type": "code",
      "source": [
        "import numpy as np\n",
        "\n",
        "# Adicionando condições para classificar o porte de cada empresa\n",
        "condicoes = [\n",
        "    (dados_numericos['faturamentoBruto'] <= 966916.5),\n",
        "    (dados_numericos['faturamentoBruto'] <= 10962770.0),\n",
        "    (dados_numericos['faturamentoBruto'] <= 4590082142.857142)\n",
        "]\n",
        "\n",
        "opcoes = ['pequena', 'media', 'grande']\n",
        "\n",
        "# Usando np.select() para atribuir valores com base nas condições\n",
        "dados_numericos['porte'] = np.select(condicoes, opcoes, default='desconhecido')\n"
      ],
      "metadata": {
        "id": "RT0qQPcP_jzn"
      },
      "execution_count": 91,
      "outputs": []
    },
    {
      "cell_type": "code",
      "source": [
        "dados_numericos.head()"
      ],
      "metadata": {
        "id": "yqPu331d88Bt",
        "outputId": "af161a53-8176-4266-830a-ad7a222f6701",
        "colab": {
          "base_uri": "https://localhost:8080/",
          "height": 206
        }
      },
      "execution_count": 92,
      "outputs": [
        {
          "output_type": "execute_result",
          "data": {
            "text/plain": [
              "   faturamentoBruto    totalAtivo  porte\n",
              "0      1.017393e+07  1.041153e+07  media\n",
              "1      2.561542e+06           NaN  media\n",
              "2      2.146509e+06  1.371206e+06  media\n",
              "3      8.089218e+06  9.684003e+06  media\n",
              "4      2.550429e+06  8.683270e+05  media"
            ],
            "text/html": [
              "\n",
              "  <div id=\"df-8f14b77f-e405-4683-b997-1e422ba298b7\" class=\"colab-df-container\">\n",
              "    <div>\n",
              "<style scoped>\n",
              "    .dataframe tbody tr th:only-of-type {\n",
              "        vertical-align: middle;\n",
              "    }\n",
              "\n",
              "    .dataframe tbody tr th {\n",
              "        vertical-align: top;\n",
              "    }\n",
              "\n",
              "    .dataframe thead th {\n",
              "        text-align: right;\n",
              "    }\n",
              "</style>\n",
              "<table border=\"1\" class=\"dataframe\">\n",
              "  <thead>\n",
              "    <tr style=\"text-align: right;\">\n",
              "      <th></th>\n",
              "      <th>faturamentoBruto</th>\n",
              "      <th>totalAtivo</th>\n",
              "      <th>porte</th>\n",
              "    </tr>\n",
              "  </thead>\n",
              "  <tbody>\n",
              "    <tr>\n",
              "      <th>0</th>\n",
              "      <td>1.017393e+07</td>\n",
              "      <td>1.041153e+07</td>\n",
              "      <td>media</td>\n",
              "    </tr>\n",
              "    <tr>\n",
              "      <th>1</th>\n",
              "      <td>2.561542e+06</td>\n",
              "      <td>NaN</td>\n",
              "      <td>media</td>\n",
              "    </tr>\n",
              "    <tr>\n",
              "      <th>2</th>\n",
              "      <td>2.146509e+06</td>\n",
              "      <td>1.371206e+06</td>\n",
              "      <td>media</td>\n",
              "    </tr>\n",
              "    <tr>\n",
              "      <th>3</th>\n",
              "      <td>8.089218e+06</td>\n",
              "      <td>9.684003e+06</td>\n",
              "      <td>media</td>\n",
              "    </tr>\n",
              "    <tr>\n",
              "      <th>4</th>\n",
              "      <td>2.550429e+06</td>\n",
              "      <td>8.683270e+05</td>\n",
              "      <td>media</td>\n",
              "    </tr>\n",
              "  </tbody>\n",
              "</table>\n",
              "</div>\n",
              "    <div class=\"colab-df-buttons\">\n",
              "\n",
              "  <div class=\"colab-df-container\">\n",
              "    <button class=\"colab-df-convert\" onclick=\"convertToInteractive('df-8f14b77f-e405-4683-b997-1e422ba298b7')\"\n",
              "            title=\"Convert this dataframe to an interactive table.\"\n",
              "            style=\"display:none;\">\n",
              "\n",
              "  <svg xmlns=\"http://www.w3.org/2000/svg\" height=\"24px\" viewBox=\"0 -960 960 960\">\n",
              "    <path d=\"M120-120v-720h720v720H120Zm60-500h600v-160H180v160Zm220 220h160v-160H400v160Zm0 220h160v-160H400v160ZM180-400h160v-160H180v160Zm440 0h160v-160H620v160ZM180-180h160v-160H180v160Zm440 0h160v-160H620v160Z\"/>\n",
              "  </svg>\n",
              "    </button>\n",
              "\n",
              "  <style>\n",
              "    .colab-df-container {\n",
              "      display:flex;\n",
              "      gap: 12px;\n",
              "    }\n",
              "\n",
              "    .colab-df-convert {\n",
              "      background-color: #E8F0FE;\n",
              "      border: none;\n",
              "      border-radius: 50%;\n",
              "      cursor: pointer;\n",
              "      display: none;\n",
              "      fill: #1967D2;\n",
              "      height: 32px;\n",
              "      padding: 0 0 0 0;\n",
              "      width: 32px;\n",
              "    }\n",
              "\n",
              "    .colab-df-convert:hover {\n",
              "      background-color: #E2EBFA;\n",
              "      box-shadow: 0px 1px 2px rgba(60, 64, 67, 0.3), 0px 1px 3px 1px rgba(60, 64, 67, 0.15);\n",
              "      fill: #174EA6;\n",
              "    }\n",
              "\n",
              "    .colab-df-buttons div {\n",
              "      margin-bottom: 4px;\n",
              "    }\n",
              "\n",
              "    [theme=dark] .colab-df-convert {\n",
              "      background-color: #3B4455;\n",
              "      fill: #D2E3FC;\n",
              "    }\n",
              "\n",
              "    [theme=dark] .colab-df-convert:hover {\n",
              "      background-color: #434B5C;\n",
              "      box-shadow: 0px 1px 3px 1px rgba(0, 0, 0, 0.15);\n",
              "      filter: drop-shadow(0px 1px 2px rgba(0, 0, 0, 0.3));\n",
              "      fill: #FFFFFF;\n",
              "    }\n",
              "  </style>\n",
              "\n",
              "    <script>\n",
              "      const buttonEl =\n",
              "        document.querySelector('#df-8f14b77f-e405-4683-b997-1e422ba298b7 button.colab-df-convert');\n",
              "      buttonEl.style.display =\n",
              "        google.colab.kernel.accessAllowed ? 'block' : 'none';\n",
              "\n",
              "      async function convertToInteractive(key) {\n",
              "        const element = document.querySelector('#df-8f14b77f-e405-4683-b997-1e422ba298b7');\n",
              "        const dataTable =\n",
              "          await google.colab.kernel.invokeFunction('convertToInteractive',\n",
              "                                                    [key], {});\n",
              "        if (!dataTable) return;\n",
              "\n",
              "        const docLinkHtml = 'Like what you see? Visit the ' +\n",
              "          '<a target=\"_blank\" href=https://colab.research.google.com/notebooks/data_table.ipynb>data table notebook</a>'\n",
              "          + ' to learn more about interactive tables.';\n",
              "        element.innerHTML = '';\n",
              "        dataTable['output_type'] = 'display_data';\n",
              "        await google.colab.output.renderOutput(dataTable, element);\n",
              "        const docLink = document.createElement('div');\n",
              "        docLink.innerHTML = docLinkHtml;\n",
              "        element.appendChild(docLink);\n",
              "      }\n",
              "    </script>\n",
              "  </div>\n",
              "\n",
              "\n",
              "<div id=\"df-4324ddb2-5f00-4a51-a23b-f554eaa8dfc1\">\n",
              "  <button class=\"colab-df-quickchart\" onclick=\"quickchart('df-4324ddb2-5f00-4a51-a23b-f554eaa8dfc1')\"\n",
              "            title=\"Suggest charts\"\n",
              "            style=\"display:none;\">\n",
              "\n",
              "<svg xmlns=\"http://www.w3.org/2000/svg\" height=\"24px\"viewBox=\"0 0 24 24\"\n",
              "     width=\"24px\">\n",
              "    <g>\n",
              "        <path d=\"M19 3H5c-1.1 0-2 .9-2 2v14c0 1.1.9 2 2 2h14c1.1 0 2-.9 2-2V5c0-1.1-.9-2-2-2zM9 17H7v-7h2v7zm4 0h-2V7h2v10zm4 0h-2v-4h2v4z\"/>\n",
              "    </g>\n",
              "</svg>\n",
              "  </button>\n",
              "\n",
              "<style>\n",
              "  .colab-df-quickchart {\n",
              "      --bg-color: #E8F0FE;\n",
              "      --fill-color: #1967D2;\n",
              "      --hover-bg-color: #E2EBFA;\n",
              "      --hover-fill-color: #174EA6;\n",
              "      --disabled-fill-color: #AAA;\n",
              "      --disabled-bg-color: #DDD;\n",
              "  }\n",
              "\n",
              "  [theme=dark] .colab-df-quickchart {\n",
              "      --bg-color: #3B4455;\n",
              "      --fill-color: #D2E3FC;\n",
              "      --hover-bg-color: #434B5C;\n",
              "      --hover-fill-color: #FFFFFF;\n",
              "      --disabled-bg-color: #3B4455;\n",
              "      --disabled-fill-color: #666;\n",
              "  }\n",
              "\n",
              "  .colab-df-quickchart {\n",
              "    background-color: var(--bg-color);\n",
              "    border: none;\n",
              "    border-radius: 50%;\n",
              "    cursor: pointer;\n",
              "    display: none;\n",
              "    fill: var(--fill-color);\n",
              "    height: 32px;\n",
              "    padding: 0;\n",
              "    width: 32px;\n",
              "  }\n",
              "\n",
              "  .colab-df-quickchart:hover {\n",
              "    background-color: var(--hover-bg-color);\n",
              "    box-shadow: 0 1px 2px rgba(60, 64, 67, 0.3), 0 1px 3px 1px rgba(60, 64, 67, 0.15);\n",
              "    fill: var(--button-hover-fill-color);\n",
              "  }\n",
              "\n",
              "  .colab-df-quickchart-complete:disabled,\n",
              "  .colab-df-quickchart-complete:disabled:hover {\n",
              "    background-color: var(--disabled-bg-color);\n",
              "    fill: var(--disabled-fill-color);\n",
              "    box-shadow: none;\n",
              "  }\n",
              "\n",
              "  .colab-df-spinner {\n",
              "    border: 2px solid var(--fill-color);\n",
              "    border-color: transparent;\n",
              "    border-bottom-color: var(--fill-color);\n",
              "    animation:\n",
              "      spin 1s steps(1) infinite;\n",
              "  }\n",
              "\n",
              "  @keyframes spin {\n",
              "    0% {\n",
              "      border-color: transparent;\n",
              "      border-bottom-color: var(--fill-color);\n",
              "      border-left-color: var(--fill-color);\n",
              "    }\n",
              "    20% {\n",
              "      border-color: transparent;\n",
              "      border-left-color: var(--fill-color);\n",
              "      border-top-color: var(--fill-color);\n",
              "    }\n",
              "    30% {\n",
              "      border-color: transparent;\n",
              "      border-left-color: var(--fill-color);\n",
              "      border-top-color: var(--fill-color);\n",
              "      border-right-color: var(--fill-color);\n",
              "    }\n",
              "    40% {\n",
              "      border-color: transparent;\n",
              "      border-right-color: var(--fill-color);\n",
              "      border-top-color: var(--fill-color);\n",
              "    }\n",
              "    60% {\n",
              "      border-color: transparent;\n",
              "      border-right-color: var(--fill-color);\n",
              "    }\n",
              "    80% {\n",
              "      border-color: transparent;\n",
              "      border-right-color: var(--fill-color);\n",
              "      border-bottom-color: var(--fill-color);\n",
              "    }\n",
              "    90% {\n",
              "      border-color: transparent;\n",
              "      border-bottom-color: var(--fill-color);\n",
              "    }\n",
              "  }\n",
              "</style>\n",
              "\n",
              "  <script>\n",
              "    async function quickchart(key) {\n",
              "      const quickchartButtonEl =\n",
              "        document.querySelector('#' + key + ' button');\n",
              "      quickchartButtonEl.disabled = true;  // To prevent multiple clicks.\n",
              "      quickchartButtonEl.classList.add('colab-df-spinner');\n",
              "      try {\n",
              "        const charts = await google.colab.kernel.invokeFunction(\n",
              "            'suggestCharts', [key], {});\n",
              "      } catch (error) {\n",
              "        console.error('Error during call to suggestCharts:', error);\n",
              "      }\n",
              "      quickchartButtonEl.classList.remove('colab-df-spinner');\n",
              "      quickchartButtonEl.classList.add('colab-df-quickchart-complete');\n",
              "    }\n",
              "    (() => {\n",
              "      let quickchartButtonEl =\n",
              "        document.querySelector('#df-4324ddb2-5f00-4a51-a23b-f554eaa8dfc1 button');\n",
              "      quickchartButtonEl.style.display =\n",
              "        google.colab.kernel.accessAllowed ? 'block' : 'none';\n",
              "    })();\n",
              "  </script>\n",
              "</div>\n",
              "\n",
              "    </div>\n",
              "  </div>\n"
            ],
            "application/vnd.google.colaboratory.intrinsic+json": {
              "type": "dataframe",
              "variable_name": "dados_numericos",
              "summary": "{\n  \"name\": \"dados_numericos\",\n  \"rows\": 2829,\n  \"fields\": [\n    {\n      \"column\": \"faturamentoBruto\",\n      \"properties\": {\n        \"dtype\": \"number\",\n        \"std\": 238575934.45696923,\n        \"min\": 0.0,\n        \"max\": 4819586250.0,\n        \"num_unique_values\": 2627,\n        \"samples\": [\n          2452865.0,\n          253029.7142857143,\n          84594865.6\n        ],\n        \"semantic_type\": \"\",\n        \"description\": \"\"\n      }\n    },\n    {\n      \"column\": \"totalAtivo\",\n      \"properties\": {\n        \"dtype\": \"number\",\n        \"std\": 1507531373.7436063,\n        \"min\": 0.0,\n        \"max\": 54823500000.0,\n        \"num_unique_values\": 1302,\n        \"samples\": [\n          37944063.0,\n          235825588.0,\n          10057852.625\n        ],\n        \"semantic_type\": \"\",\n        \"description\": \"\"\n      }\n    },\n    {\n      \"column\": \"porte\",\n      \"properties\": {\n        \"dtype\": \"category\",\n        \"num_unique_values\": 4,\n        \"samples\": [\n          \"desconhecido\",\n          \"grande\",\n          \"media\"\n        ],\n        \"semantic_type\": \"\",\n        \"description\": \"\"\n      }\n    }\n  ]\n}"
            }
          },
          "metadata": {},
          "execution_count": 92
        }
      ]
    },
    {
      "cell_type": "code",
      "source": [
        "contagem_portes = dados_numericos['porte'].value_counts()\n",
        "\n",
        "# Plotando o gráfico de barras\n",
        "contagem_portes.plot(kind='bar')\n",
        "\n",
        "# Adicionando título e rótulos aos eixos\n",
        "plt.title('Quantidade de Registros por Porte')\n",
        "plt.xlabel('Porte')\n",
        "plt.ylabel('Quantidade de Registros')\n",
        "\n",
        "# Exibindo o gráfico\n",
        "plt.show()"
      ],
      "metadata": {
        "colab": {
          "base_uri": "https://localhost:8080/",
          "height": 553
        },
        "id": "JpQ9xLWYYsFT",
        "outputId": "6681c88b-e5de-4498-f9a7-d1f709e5f932"
      },
      "execution_count": 93,
      "outputs": [
        {
          "output_type": "display_data",
          "data": {
            "text/plain": [
              "<Figure size 640x480 with 1 Axes>"
            ],
            "image/png": "[encoded data removed]"
          },
          "metadata": {}
        }
      ]
    },
    {
      "cell_type": "code",
      "source": [
        "import matplotlib.ticker as ticker\n",
        "\n",
        "# Criando o boxplot\n",
        "plt.figure(figsize=(10, 6))\n",
        "sns.boxplot(x='porte', y='faturamentoBruto', data=dados_numericos, order=['pequena', 'media', 'grande'])\n",
        "\n",
        "# Adicionando título e rótulos aos eixos\n",
        "plt.title('Distribuição do Porte por Faturamento Bruto')\n",
        "plt.xlabel('Porte')\n",
        "plt.ylabel('Faturamento Bruto')\n",
        "\n",
        "# Ajustando a escala do eixo y para melhor visualização\n",
        "plt.yscale('log')  # Usar escala logarítmica se houver grande disparidade nos valores\n",
        "\n",
        "# Customizando os rótulos do eixo y para mostrar valores em uma unidade mais legível\n",
        "def y_fmt(x, _):\n",
        "    if x >= 1e9:\n",
        "        return f'{x * 1e-9:.1f}B'\n",
        "    elif x >= 1e6:\n",
        "        return f'{x * 1e-6:.1f}M'\n",
        "    elif x >= 1e3:\n",
        "        return f'{x * 1e-3:.1f}K'\n",
        "    else:\n",
        "        return f'{x:.0f}'\n",
        "\n",
        "plt.gca().yaxis.set_major_formatter(ticker.FuncFormatter(y_fmt))\n",
        "\n",
        "# Exibindo o gráfico\n",
        "plt.show()"
      ],
      "metadata": {
        "colab": {
          "base_uri": "https://localhost:8080/",
          "height": 564
        },
        "id": "98Jhf0EBYyz7",
        "outputId": "8116a2ac-32bb-45e2-e185-502b1d1fc840"
      },
      "execution_count": 95,
      "outputs": [
        {
          "output_type": "display_data",
          "data": {
            "text/plain": [
              "<Figure size 1000x600 with 1 Axes>"
            ],
            "image/png": "[encoded data removed]"
          },
          "metadata": {}
        }
      ]
    },
    {
      "cell_type": "markdown",
      "source": [
        "# *TREINAMENTO DE CLASSIFICAÇÃO PARA SABER ONDE UMA NOVA EMPRESA SE ENCAIXARIA*\n"
      ],
      "metadata": {
        "id": "FWynGSRgYUZh"
      }
    },
    {
      "cell_type": "code",
      "source": [
        "# Remover linhas com valores ausentes\n",
        "dados = dados_numericos.dropna()\n",
        "\n",
        "# Dividir os dados em features (X) e target (y)\n",
        "X = dados.drop(columns=[\"porte\"])\n",
        "y = dados['porte']\n",
        "\n",
        "# Dividir os dados em conjuntos de treinamento e teste\n",
        "X_train, X_test, y_train, y_test = train_test_split(X, y, test_size=0.2, random_state=42)\n",
        "\n",
        "# Inicializar e treinar o modelo de Árvore de Decisão\n",
        "modelo = DecisionTreeClassifier(random_state=42)\n",
        "modelo.fit(X_train, y_train)\n",
        "\n",
        "# Fazer previsões\n",
        "y_pred = modelo.predict(X_test)\n",
        "\n",
        "# Avaliar o modelo\n",
        "acuracia = accuracy_score(y_test, y_pred)\n",
        "print(\"Acurácia do modelo:\", acuracia)\n"
      ],
      "metadata": {
        "id": "DOUPUOEO6rYJ",
        "outputId": "1f132915-5d78-4d03-85b7-14e366f4e715",
        "colab": {
          "base_uri": "https://localhost:8080/"
        }
      },
      "execution_count": null,
      "outputs": [
        {
          "output_type": "stream",
          "name": "stdout",
          "text": [
            "Acurácia do modelo: 0.9965870307167235\n"
          ]
        }
      ]
    },
    {
      "cell_type": "code",
      "source": [
        "dados_numericos.head()"
      ],
      "metadata": {
        "colab": {
          "base_uri": "https://localhost:8080/",
          "height": 206
        },
        "id": "pZY6mdUfKZa-",
        "outputId": "da29f626-aa09-4a03-a06c-dc636ac40768"
      },
      "execution_count": null,
      "outputs": [
        {
          "output_type": "execute_result",
          "data": {
            "text/plain": [
              "   faturamentoBruto    totalAtivo  porte\n",
              "0      1.017393e+07  1.041153e+07  media\n",
              "1      2.561542e+06           NaN  media\n",
              "2      2.146509e+06  1.371206e+06  media\n",
              "3      8.089218e+06  9.684003e+06  media\n",
              "4      2.550429e+06  8.683270e+05  media"
            ],
            "text/html": [
              "\n",
              "  <div id=\"df-03270bb6-3aaa-477d-b41a-5e9e86cf714e\" class=\"colab-df-container\">\n",
              "    <div>\n",
              "<style scoped>\n",
              "    .dataframe tbody tr th:only-of-type {\n",
              "        vertical-align: middle;\n",
              "    }\n",
              "\n",
              "    .dataframe tbody tr th {\n",
              "        vertical-align: top;\n",
              "    }\n",
              "\n",
              "    .dataframe thead th {\n",
              "        text-align: right;\n",
              "    }\n",
              "</style>\n",
              "<table border=\"1\" class=\"dataframe\">\n",
              "  <thead>\n",
              "    <tr style=\"text-align: right;\">\n",
              "      <th></th>\n",
              "      <th>faturamentoBruto</th>\n",
              "      <th>totalAtivo</th>\n",
              "      <th>porte</th>\n",
              "    </tr>\n",
              "  </thead>\n",
              "  <tbody>\n",
              "    <tr>\n",
              "      <th>0</th>\n",
              "      <td>1.017393e+07</td>\n",
              "      <td>1.041153e+07</td>\n",
              "      <td>media</td>\n",
              "    </tr>\n",
              "    <tr>\n",
              "      <th>1</th>\n",
              "      <td>2.561542e+06</td>\n",
              "      <td>NaN</td>\n",
              "      <td>media</td>\n",
              "    </tr>\n",
              "    <tr>\n",
              "      <th>2</th>\n",
              "      <td>2.146509e+06</td>\n",
              "      <td>1.371206e+06</td>\n",
              "      <td>media</td>\n",
              "    </tr>\n",
              "    <tr>\n",
              "      <th>3</th>\n",
              "      <td>8.089218e+06</td>\n",
              "      <td>9.684003e+06</td>\n",
              "      <td>media</td>\n",
              "    </tr>\n",
              "    <tr>\n",
              "      <th>4</th>\n",
              "      <td>2.550429e+06</td>\n",
              "      <td>8.683270e+05</td>\n",
              "      <td>media</td>\n",
              "    </tr>\n",
              "  </tbody>\n",
              "</table>\n",
              "</div>\n",
              "    <div class=\"colab-df-buttons\">\n",
              "\n",
              "  <div class=\"colab-df-container\">\n",
              "    <button class=\"colab-df-convert\" onclick=\"convertToInteractive('df-03270bb6-3aaa-477d-b41a-5e9e86cf714e')\"\n",
              "            title=\"Convert this dataframe to an interactive table.\"\n",
              "            style=\"display:none;\">\n",
              "\n",
              "  <svg xmlns=\"http://www.w3.org/2000/svg\" height=\"24px\" viewBox=\"0 -960 960 960\">\n",
              "    <path d=\"M120-120v-720h720v720H120Zm60-500h600v-160H180v160Zm220 220h160v-160H400v160Zm0 220h160v-160H400v160ZM180-400h160v-160H180v160Zm440 0h160v-160H620v160ZM180-180h160v-160H180v160Zm440 0h160v-160H620v160Z\"/>\n",
              "  </svg>\n",
              "    </button>\n",
              "\n",
              "  <style>\n",
              "    .colab-df-container {\n",
              "      display:flex;\n",
              "      gap: 12px;\n",
              "    }\n",
              "\n",
              "    .colab-df-convert {\n",
              "      background-color: #E8F0FE;\n",
              "      border: none;\n",
              "      border-radius: 50%;\n",
              "      cursor: pointer;\n",
              "      display: none;\n",
              "      fill: #1967D2;\n",
              "      height: 32px;\n",
              "      padding: 0 0 0 0;\n",
              "      width: 32px;\n",
              "    }\n",
              "\n",
              "    .colab-df-convert:hover {\n",
              "      background-color: #E2EBFA;\n",
              "      box-shadow: 0px 1px 2px rgba(60, 64, 67, 0.3), 0px 1px 3px 1px rgba(60, 64, 67, 0.15);\n",
              "      fill: #174EA6;\n",
              "    }\n",
              "\n",
              "    .colab-df-buttons div {\n",
              "      margin-bottom: 4px;\n",
              "    }\n",
              "\n",
              "    [theme=dark] .colab-df-convert {\n",
              "      background-color: #3B4455;\n",
              "      fill: #D2E3FC;\n",
              "    }\n",
              "\n",
              "    [theme=dark] .colab-df-convert:hover {\n",
              "      background-color: #434B5C;\n",
              "      box-shadow: 0px 1px 3px 1px rgba(0, 0, 0, 0.15);\n",
              "      filter: drop-shadow(0px 1px 2px rgba(0, 0, 0, 0.3));\n",
              "      fill: #FFFFFF;\n",
              "    }\n",
              "  </style>\n",
              "\n",
              "    <script>\n",
              "      const buttonEl =\n",
              "        document.querySelector('#df-03270bb6-3aaa-477d-b41a-5e9e86cf714e button.colab-df-convert');\n",
              "      buttonEl.style.display =\n",
              "        google.colab.kernel.accessAllowed ? 'block' : 'none';\n",
              "\n",
              "      async function convertToInteractive(key) {\n",
              "        const element = document.querySelector('#df-03270bb6-3aaa-477d-b41a-5e9e86cf714e');\n",
              "        const dataTable =\n",
              "          await google.colab.kernel.invokeFunction('convertToInteractive',\n",
              "                                                    [key], {});\n",
              "        if (!dataTable) return;\n",
              "\n",
              "        const docLinkHtml = 'Like what you see? Visit the ' +\n",
              "          '<a target=\"_blank\" href=https://colab.research.google.com/notebooks/data_table.ipynb>data table notebook</a>'\n",
              "          + ' to learn more about interactive tables.';\n",
              "        element.innerHTML = '';\n",
              "        dataTable['output_type'] = 'display_data';\n",
              "        await google.colab.output.renderOutput(dataTable, element);\n",
              "        const docLink = document.createElement('div');\n",
              "        docLink.innerHTML = docLinkHtml;\n",
              "        element.appendChild(docLink);\n",
              "      }\n",
              "    </script>\n",
              "  </div>\n",
              "\n",
              "\n",
              "<div id=\"df-4de17fe4-5ba8-4de9-a675-84654ece8219\">\n",
              "  <button class=\"colab-df-quickchart\" onclick=\"quickchart('df-4de17fe4-5ba8-4de9-a675-84654ece8219')\"\n",
              "            title=\"Suggest charts\"\n",
              "            style=\"display:none;\">\n",
              "\n",
              "<svg xmlns=\"http://www.w3.org/2000/svg\" height=\"24px\"viewBox=\"0 0 24 24\"\n",
              "     width=\"24px\">\n",
              "    <g>\n",
              "        <path d=\"M19 3H5c-1.1 0-2 .9-2 2v14c0 1.1.9 2 2 2h14c1.1 0 2-.9 2-2V5c0-1.1-.9-2-2-2zM9 17H7v-7h2v7zm4 0h-2V7h2v10zm4 0h-2v-4h2v4z\"/>\n",
              "    </g>\n",
              "</svg>\n",
              "  </button>\n",
              "\n",
              "<style>\n",
              "  .colab-df-quickchart {\n",
              "      --bg-color: #E8F0FE;\n",
              "      --fill-color: #1967D2;\n",
              "      --hover-bg-color: #E2EBFA;\n",
              "      --hover-fill-color: #174EA6;\n",
              "      --disabled-fill-color: #AAA;\n",
              "      --disabled-bg-color: #DDD;\n",
              "  }\n",
              "\n",
              "  [theme=dark] .colab-df-quickchart {\n",
              "      --bg-color: #3B4455;\n",
              "      --fill-color: #D2E3FC;\n",
              "      --hover-bg-color: #434B5C;\n",
              "      --hover-fill-color: #FFFFFF;\n",
              "      --disabled-bg-color: #3B4455;\n",
              "      --disabled-fill-color: #666;\n",
              "  }\n",
              "\n",
              "  .colab-df-quickchart {\n",
              "    background-color: var(--bg-color);\n",
              "    border: none;\n",
              "    border-radius: 50%;\n",
              "    cursor: pointer;\n",
              "    display: none;\n",
              "    fill: var(--fill-color);\n",
              "    height: 32px;\n",
              "    padding: 0;\n",
              "    width: 32px;\n",
              "  }\n",
              "\n",
              "  .colab-df-quickchart:hover {\n",
              "    background-color: var(--hover-bg-color);\n",
              "    box-shadow: 0 1px 2px rgba(60, 64, 67, 0.3), 0 1px 3px 1px rgba(60, 64, 67, 0.15);\n",
              "    fill: var(--button-hover-fill-color);\n",
              "  }\n",
              "\n",
              "  .colab-df-quickchart-complete:disabled,\n",
              "  .colab-df-quickchart-complete:disabled:hover {\n",
              "    background-color: var(--disabled-bg-color);\n",
              "    fill: var(--disabled-fill-color);\n",
              "    box-shadow: none;\n",
              "  }\n",
              "\n",
              "  .colab-df-spinner {\n",
              "    border: 2px solid var(--fill-color);\n",
              "    border-color: transparent;\n",
              "    border-bottom-color: var(--fill-color);\n",
              "    animation:\n",
              "      spin 1s steps(1) infinite;\n",
              "  }\n",
              "\n",
              "  @keyframes spin {\n",
              "    0% {\n",
              "      border-color: transparent;\n",
              "      border-bottom-color: var(--fill-color);\n",
              "      border-left-color: var(--fill-color);\n",
              "    }\n",
              "    20% {\n",
              "      border-color: transparent;\n",
              "      border-left-color: var(--fill-color);\n",
              "      border-top-color: var(--fill-color);\n",
              "    }\n",
              "    30% {\n",
              "      border-color: transparent;\n",
              "      border-left-color: var(--fill-color);\n",
              "      border-top-color: var(--fill-color);\n",
              "      border-right-color: var(--fill-color);\n",
              "    }\n",
              "    40% {\n",
              "      border-color: transparent;\n",
              "      border-right-color: var(--fill-color);\n",
              "      border-top-color: var(--fill-color);\n",
              "    }\n",
              "    60% {\n",
              "      border-color: transparent;\n",
              "      border-right-color: var(--fill-color);\n",
              "    }\n",
              "    80% {\n",
              "      border-color: transparent;\n",
              "      border-right-color: var(--fill-color);\n",
              "      border-bottom-color: var(--fill-color);\n",
              "    }\n",
              "    90% {\n",
              "      border-color: transparent;\n",
              "      border-bottom-color: var(--fill-color);\n",
              "    }\n",
              "  }\n",
              "</style>\n",
              "\n",
              "  <script>\n",
              "    async function quickchart(key) {\n",
              "      const quickchartButtonEl =\n",
              "        document.querySelector('#' + key + ' button');\n",
              "      quickchartButtonEl.disabled = true;  // To prevent multiple clicks.\n",
              "      quickchartButtonEl.classList.add('colab-df-spinner');\n",
              "      try {\n",
              "        const charts = await google.colab.kernel.invokeFunction(\n",
              "            'suggestCharts', [key], {});\n",
              "      } catch (error) {\n",
              "        console.error('Error during call to suggestCharts:', error);\n",
              "      }\n",
              "      quickchartButtonEl.classList.remove('colab-df-spinner');\n",
              "      quickchartButtonEl.classList.add('colab-df-quickchart-complete');\n",
              "    }\n",
              "    (() => {\n",
              "      let quickchartButtonEl =\n",
              "        document.querySelector('#df-4de17fe4-5ba8-4de9-a675-84654ece8219 button');\n",
              "      quickchartButtonEl.style.display =\n",
              "        google.colab.kernel.accessAllowed ? 'block' : 'none';\n",
              "    })();\n",
              "  </script>\n",
              "</div>\n",
              "\n",
              "    </div>\n",
              "  </div>\n"
            ],
            "application/vnd.google.colaboratory.intrinsic+json": {
              "type": "dataframe",
              "variable_name": "dados_numericos",
              "summary": "{\n  \"name\": \"dados_numericos\",\n  \"rows\": 2829,\n  \"fields\": [\n    {\n      \"column\": \"faturamentoBruto\",\n      \"properties\": {\n        \"dtype\": \"number\",\n        \"std\": 238575934.45696923,\n        \"min\": 0.0,\n        \"max\": 4819586250.0,\n        \"num_unique_values\": 2627,\n        \"samples\": [\n          2452865.0,\n          253029.7142857143,\n          84594865.6\n        ],\n        \"semantic_type\": \"\",\n        \"description\": \"\"\n      }\n    },\n    {\n      \"column\": \"totalAtivo\",\n      \"properties\": {\n        \"dtype\": \"number\",\n        \"std\": 1507531373.7436063,\n        \"min\": 0.0,\n        \"max\": 54823500000.0,\n        \"num_unique_values\": 1302,\n        \"samples\": [\n          37944063.0,\n          235825588.0,\n          10057852.625\n        ],\n        \"semantic_type\": \"\",\n        \"description\": \"\"\n      }\n    },\n    {\n      \"column\": \"porte\",\n      \"properties\": {\n        \"dtype\": \"category\",\n        \"num_unique_values\": 4,\n        \"samples\": [\n          \"desconhecido\",\n          \"grande\",\n          \"media\"\n        ],\n        \"semantic_type\": \"\",\n        \"description\": \"\"\n      }\n    }\n  ]\n}"
            }
          },
          "metadata": {},
          "execution_count": 24
        }
      ]
    },
    {
      "cell_type": "code",
      "source": [
        "\n",
        "input_manual = {\n",
        "    'faturamentoBruto': [7000000],\n",
        "    'totalAtivo': [500000]\n",
        "}\n",
        "\n",
        "input_df = pd.DataFrame(input_manual)\n",
        "\n",
        "input_preprocessado = input_df.fillna(input_df.mean())\n",
        "\n",
        "previsoes = modelo.predict(input_preprocessado)\n",
        "\n",
        "print(\"Previsão para o input manual:\", previsoes)\n"
      ],
      "metadata": {
        "id": "jBS0vRmqA7Zu",
        "outputId": "6fed5006-d8eb-4f90-b988-6e4d0a34971e",
        "colab": {
          "base_uri": "https://localhost:8080/"
        }
      },
      "execution_count": null,
      "outputs": [
        {
          "output_type": "stream",
          "name": "stdout",
          "text": [
            "Previsão para o input manual: ['media']\n"
          ]
        }
      ]
    },
    {
      "cell_type": "markdown",
      "source": [
        "# ***TREINAMENTO DE REGRESSÃO PARA SABER QUANTO LIBERAR PARA A EMPRESA ***\n",
        "\n"
      ],
      "metadata": {
        "id": "TdRzprBYY4A3"
      }
    },
    {
      "cell_type": "code",
      "source": [
        "url = \"/content/drive/MyDrive/solicitacoescredito.csv\""
      ],
      "metadata": {
        "id": "bp_wa0ebC0MK"
      },
      "execution_count": 43,
      "outputs": []
    },
    {
      "cell_type": "code",
      "source": [
        "# Carregar o arquivo CSV\n",
        "dados = pd.read_csv(url)\n",
        "colunas_para_media = ['margemBruta', 'faturamentoBruto', 'totalAtivo', 'valorAprovado' ]\n",
        "\n",
        "dados = dados.groupby('cnpjSemTraco')[colunas_para_media].mean().reset_index()\n",
        "\n",
        "# Remover todas as colunas não numéricas\n",
        "dados_numericos = dados.select_dtypes(include='number')\n",
        "dados_numericos = dados_numericos.drop('margemBruta', axis=1)\n",
        "dados_numericos = dados_numericos.fillna(dados_numericos.mean())\n",
        "\n",
        "# Remover qualquer linha restante com valores ausentes\n",
        "dados = dados_numericos.dropna()\n",
        "\n",
        "# Definir as features (X) e o target (y)\n",
        "X = dados[['faturamentoBruto', 'totalAtivo']]  # Note que as features devem ser passadas como uma lista\n",
        "y = dados['valorAprovado']\n",
        "\n",
        "# Dividir o conjunto de dados em treinamento e teste\n",
        "X_train, X_test, y_train, y_test = train_test_split(X, y, test_size=0.2, random_state=42)\n",
        "\n",
        "# Treinar o modelo\n",
        "modelo = LinearRegression()\n",
        "modelo.fit(X_train, y_train)\n",
        "\n",
        "# Avaliação do modelo\n",
        "y_pred = modelo.predict(X_test)\n",
        "mse = mean_squared_error(y_test, y_pred)\n",
        "print(\"Erro médio quadrático do modelo:\", mse)\n"
      ],
      "metadata": {
        "id": "gpV5xjDFCvWa",
        "colab": {
          "base_uri": "https://localhost:8080/"
        },
        "outputId": "73fe0df1-4990-4c77-f610-c938ad53f49a"
      },
      "execution_count": 85,
      "outputs": [
        {
          "output_type": "stream",
          "name": "stdout",
          "text": [
            "Erro médio quadrático do modelo: 85154353285.57674\n"
          ]
        }
      ]
    },
    {
      "cell_type": "code",
      "source": [
        "from sklearn.model_selection import train_test_split\n",
        "from sklearn.tree import DecisionTreeRegressor\n",
        "from sklearn.metrics import mean_squared_error\n",
        "\n",
        "\n",
        "# Carregar os dados\n",
        "dados = pd.read_csv(url)\n",
        "\n",
        "# Selecionar colunas para cálculo da média e agrupar por 'cnpjSemTraco'\n",
        "colunas_para_media = ['margemBruta', 'totalAtivo', 'valorAprovado', 'titulosEmAberto']\n",
        "dados = dados.groupby('cnpjSemTraco')[colunas_para_media].mean().reset_index()\n",
        "\n",
        "# Remover todas as colunas não numéricas\n",
        "dados_numericos = dados.select_dtypes(include='number')\n",
        "dados_numericos = dados_numericos.drop('margemBruta', axis=1)\n",
        "dados_numericos = dados_numericos.fillna(dados_numericos.mean())\n",
        "\n",
        "# Remover qualquer linha restante com valores ausentes\n",
        "dados = dados_numericos.dropna()\n",
        "\n",
        "# Definir as features (X) e o target (y)\n",
        "X = dados[['totalAtivo', 'titulosEmAberto']]  # Verifique se 'titulosEmAberto' está disponível\n",
        "y = dados['valorAprovado']\n",
        "\n",
        "\n",
        "# Divisão dos dados em treinamento e teste\n",
        "X_train, X_test, y_train, y_test = train_test_split(X, y, test_size=0.2, random_state=42)\n",
        "\n",
        "# Instanciação e treinamento do modelo\n",
        "modelo_arvore = DecisionTreeRegressor(random_state=42)\n",
        "modelo_arvore.fit(X_train, y_train)\n",
        "\n",
        "# Avaliação do modelo\n",
        "y_pred = modelo_arvore.predict(X_test)\n",
        "mse = mean_squared_error(y_test, y_pred)\n",
        "print(\"Erro médio quadrático do modelo de Árvore de Decisão:\", mse)\n"
      ],
      "metadata": {
        "colab": {
          "base_uri": "https://localhost:8080/"
        },
        "id": "XLusk0ihW3PP",
        "outputId": "106b0836-9fd2-45ef-b109-0d6b5d63194e"
      },
      "execution_count": 87,
      "outputs": [
        {
          "output_type": "stream",
          "name": "stdout",
          "text": [
            "Erro médio quadrático do modelo de Árvore de Decisão: 75327981434.09303\n"
          ]
        }
      ]
    },
    {
      "cell_type": "code",
      "source": [
        "# Novos dados para previsão\n",
        "novos_dados = pd.DataFrame({\n",
        "    'faturamentoBruto': [7000000],\n",
        "    'totalAtivo': [500000]\n",
        "})\n",
        "\n",
        "# Previsões\n",
        "creditos_aprovados = modelo.predict(novos_dados)\n",
        "print(creditos_aprovados)\n"
      ],
      "metadata": {
        "id": "F9X2En__EgG-",
        "outputId": "1d7df7bb-9a54-48f7-89ef-a253ca03a6aa",
        "colab": {
          "base_uri": "https://localhost:8080/"
        }
      },
      "execution_count": 80,
      "outputs": [
        {
          "output_type": "stream",
          "name": "stdout",
          "text": [
            "[93689.0826039]\n"
          ]
        }
      ]
    },
    {
      "cell_type": "code",
      "source": [
        "# Verificar a correlação\n",
        "correlacao = dados_numericos.corr()\n",
        "print(correlacao)\n",
        "\n",
        "# Visualizar a matriz de correlação\n",
        "plt.figure(figsize=(10, 8))\n",
        "sns.heatmap(correlacao, annot=True, cmap='coolwarm')\n",
        "plt.title('Matriz de Correlação')\n",
        "plt.show()\n"
      ],
      "metadata": {
        "colab": {
          "base_uri": "https://localhost:8080/",
          "height": 772
        },
        "id": "9jRpB_SyTdgd",
        "outputId": "cdd34882-8441-4671-ee24-9a4e5c0776f5"
      },
      "execution_count": 58,
      "outputs": [
        {
          "output_type": "stream",
          "name": "stdout",
          "text": [
            "                  faturamentoBruto  totalAtivo  valorAprovado\n",
            "faturamentoBruto          1.000000    0.508218       0.211183\n",
            "totalAtivo                0.508218    1.000000       0.043370\n",
            "valorAprovado             0.211183    0.043370       1.000000\n"
          ]
        },
        {
          "output_type": "display_data",
          "data": {
            "text/plain": [
              "<Figure size 1000x800 with 2 Axes>"
            ],
            "image/png": "[encoded data removed]"
          },
          "metadata": {}
        }
      ]
    },
    {
      "cell_type": "code",
      "source": [
        "# Novos dados de exemplo\n",
        "novos_dados = pd.DataFrame({\n",
        "    'faturamentoBruto': [7000000],\n",
        "    'totalAtivo': [500000]\n",
        "})\n",
        "\n",
        "# Previsões\n",
        "creditos_aprovados = modelo.predict(novos_dados)\n",
        "\n",
        "print(creditos_aprovados)\n"
      ],
      "metadata": {
        "colab": {
          "base_uri": "https://localhost:8080/"
        },
        "id": "eqmo58p_P_E3",
        "outputId": "5d5fe896-7e86-4d05-a070-f9fdb07236f2"
      },
      "execution_count": 60,
      "outputs": [
        {
          "output_type": "stream",
          "name": "stdout",
          "text": [
            "[93689.0826039]\n"
          ]
        }
      ]
    }
  ]
}